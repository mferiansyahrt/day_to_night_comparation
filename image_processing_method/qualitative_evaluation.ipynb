{
 "cells": [
  {
   "cell_type": "code",
   "execution_count": 1,
   "id": "a852c037",
   "metadata": {},
   "outputs": [],
   "source": [
    "import matplotlib.pyplot as plt\n",
    "import numpy as np\n",
    "import cv2"
   ]
  },
  {
   "cell_type": "code",
   "execution_count": 2,
   "id": "14438705",
   "metadata": {},
   "outputs": [
    {
     "ename": "FileNotFoundError",
     "evalue": "[Errno 2] No such file or directory: './RAW_PROCESSED_DATA/Image_35/raw_processed_clean35.npy'",
     "output_type": "error",
     "traceback": [
      "\u001b[0;31m---------------------------------------------------------------------------\u001b[0m",
      "\u001b[0;31mFileNotFoundError\u001b[0m                         Traceback (most recent call last)",
      "Cell \u001b[0;32mIn[2], line 13\u001b[0m\n\u001b[1;32m     10\u001b[0m im_original_clean \u001b[38;5;241m=\u001b[39m cv2\u001b[38;5;241m.\u001b[39mimread(original_path \u001b[38;5;241m+\u001b[39m \u001b[38;5;124mf\u001b[39m\u001b[38;5;124m'\u001b[39m\u001b[38;5;124mclean\u001b[39m\u001b[38;5;132;01m{\u001b[39;00msample\u001b[38;5;132;01m}\u001b[39;00m\u001b[38;5;124m.png\u001b[39m\u001b[38;5;124m'\u001b[39m)[:,:,[\u001b[38;5;241m2\u001b[39m,\u001b[38;5;241m1\u001b[39m,\u001b[38;5;241m0\u001b[39m]]\n\u001b[1;32m     11\u001b[0m im_original_noisy \u001b[38;5;241m=\u001b[39m cv2\u001b[38;5;241m.\u001b[39mimread(original_path \u001b[38;5;241m+\u001b[39m \u001b[38;5;124mf\u001b[39m\u001b[38;5;124m'\u001b[39m\u001b[38;5;124mnoisy\u001b[39m\u001b[38;5;132;01m{\u001b[39;00msample\u001b[38;5;132;01m}\u001b[39;00m\u001b[38;5;124m.png\u001b[39m\u001b[38;5;124m'\u001b[39m)[:,:,[\u001b[38;5;241m2\u001b[39m,\u001b[38;5;241m1\u001b[39m,\u001b[38;5;241m0\u001b[39m]]\n\u001b[0;32m---> 13\u001b[0m im_rawpros_clean \u001b[38;5;241m=\u001b[39m \u001b[43mnp\u001b[49m\u001b[38;5;241;43m.\u001b[39;49m\u001b[43mload\u001b[49m\u001b[43m(\u001b[49m\u001b[43mraw_process_path\u001b[49m\u001b[43m \u001b[49m\u001b[38;5;241;43m+\u001b[39;49m\u001b[43m \u001b[49m\u001b[38;5;124;43mf\u001b[39;49m\u001b[38;5;124;43m'\u001b[39;49m\u001b[38;5;124;43mraw_processed_clean\u001b[39;49m\u001b[38;5;132;43;01m{\u001b[39;49;00m\u001b[43msample\u001b[49m\u001b[38;5;132;43;01m}\u001b[39;49;00m\u001b[38;5;124;43m.npy\u001b[39;49m\u001b[38;5;124;43m'\u001b[39;49m\u001b[43m)\u001b[49m\u001b[38;5;241m.\u001b[39mastype(np\u001b[38;5;241m.\u001b[39mfloat32)\n\u001b[1;32m     14\u001b[0m im_rawpros_noisy \u001b[38;5;241m=\u001b[39m np\u001b[38;5;241m.\u001b[39mload(raw_process_path \u001b[38;5;241m+\u001b[39m \u001b[38;5;124mf\u001b[39m\u001b[38;5;124m'\u001b[39m\u001b[38;5;124mraw_processed_noisy\u001b[39m\u001b[38;5;132;01m{\u001b[39;00msample\u001b[38;5;132;01m}\u001b[39;00m\u001b[38;5;124m.npy\u001b[39m\u001b[38;5;124m'\u001b[39m)\u001b[38;5;241m.\u001b[39mastype(np\u001b[38;5;241m.\u001b[39mfloat32)\n\u001b[1;32m     16\u001b[0m im_skiprawC_path_grayness \u001b[38;5;241m=\u001b[39m cv2\u001b[38;5;241m.\u001b[39mimread(rgb_skiprawC_path \u001b[38;5;241m+\u001b[39m \u001b[38;5;124m'\u001b[39m\u001b[38;5;124mGrayness Index.jpg\u001b[39m\u001b[38;5;124m'\u001b[39m)[:,:,[\u001b[38;5;241m2\u001b[39m,\u001b[38;5;241m1\u001b[39m,\u001b[38;5;241m0\u001b[39m]]\n",
      "File \u001b[0;32m~/miniforge3/envs/tensorflow/lib/python3.10/site-packages/numpy/lib/npyio.py:405\u001b[0m, in \u001b[0;36mload\u001b[0;34m(file, mmap_mode, allow_pickle, fix_imports, encoding, max_header_size)\u001b[0m\n\u001b[1;32m    403\u001b[0m     own_fid \u001b[38;5;241m=\u001b[39m \u001b[38;5;28;01mFalse\u001b[39;00m\n\u001b[1;32m    404\u001b[0m \u001b[38;5;28;01melse\u001b[39;00m:\n\u001b[0;32m--> 405\u001b[0m     fid \u001b[38;5;241m=\u001b[39m stack\u001b[38;5;241m.\u001b[39menter_context(\u001b[38;5;28;43mopen\u001b[39;49m\u001b[43m(\u001b[49m\u001b[43mos_fspath\u001b[49m\u001b[43m(\u001b[49m\u001b[43mfile\u001b[49m\u001b[43m)\u001b[49m\u001b[43m,\u001b[49m\u001b[43m \u001b[49m\u001b[38;5;124;43m\"\u001b[39;49m\u001b[38;5;124;43mrb\u001b[39;49m\u001b[38;5;124;43m\"\u001b[39;49m\u001b[43m)\u001b[49m)\n\u001b[1;32m    406\u001b[0m     own_fid \u001b[38;5;241m=\u001b[39m \u001b[38;5;28;01mTrue\u001b[39;00m\n\u001b[1;32m    408\u001b[0m \u001b[38;5;66;03m# Code to distinguish from NumPy binary files and pickles.\u001b[39;00m\n",
      "\u001b[0;31mFileNotFoundError\u001b[0m: [Errno 2] No such file or directory: './RAW_PROCESSED_DATA/Image_35/raw_processed_clean35.npy'"
     ]
    }
   ],
   "source": [
    "sample = 35\n",
    "\n",
    "original_path = f'./RAW_ALL_DATA/Image_{sample}/'\n",
    "raw_process_path = f'./RAW_PROCESSED_DATA/Image_{sample}/'\n",
    "rgb_skiprawC_path = f'./RGB_PROCESSED_DATA/SKIP_RAW_CLEAN/Image_{sample}/global_framework_process/'\n",
    "rgb_skiprawN_path = f'./RGB_PROCESSED_DATA/SKIP_RAW_NOISY/Image_{sample}/global_framework_process/'\n",
    "rgb_withrawC_path = f'./RGB_PROCESSED_DATA/WITH_RAW_CLEAN/Image_{sample}/global_framework_process/'\n",
    "rgb_withrawN_path = f'./RGB_PROCESSED_DATA/WITH_RAW_NOISY/Image_{sample}/global_framework_process/'\n",
    "\n",
    "im_original_clean = cv2.imread(original_path + f'clean{sample}.png')[:,:,[2,1,0]]\n",
    "im_original_noisy = cv2.imread(original_path + f'noisy{sample}.png')[:,:,[2,1,0]]\n",
    "\n",
    "im_rawpros_clean = np.load(raw_process_path + f'raw_processed_clean{sample}.npy').astype(np.float32)\n",
    "im_rawpros_noisy = np.load(raw_process_path + f'raw_processed_noisy{sample}.npy').astype(np.float32)\n",
    "\n",
    "im_skiprawC_path_grayness = cv2.imread(rgb_skiprawC_path + 'Grayness Index.jpg')[:,:,[2,1,0]]\n",
    "im_skiprawC_path_unsharp = cv2.imread(rgb_skiprawC_path + 'Unsharp Masking.jpg')[:,:,[2,1,0]]\n",
    "\n",
    "im_skiprawN_path_grayness = cv2.imread(rgb_skiprawN_path + 'Grayness Index.jpg')[:,:,[2,1,0]]\n",
    "im_skiprawN_path_unsharp = cv2.imread(rgb_skiprawN_path + 'Unsharp Masking.jpg')[:,:,[2,1,0]]\n",
    "\n",
    "im_withrawC_path_grayness = cv2.imread(rgb_withrawC_path + 'Grayness Index.jpg')[:,:,[2,1,0]]\n",
    "im_withrawC_path_unsharp = cv2.imread(rgb_withrawC_path + 'Unsharp Masking.jpg')[:,:,[2,1,0]]\n",
    "\n",
    "im_withrawN_path_grayness = cv2.imread(rgb_withrawN_path + 'Grayness Index.jpg')[:,:,[2,1,0]]\n",
    "im_withrawN_path_unsharp = cv2.imread(rgb_withrawN_path + 'Unsharp Masking.jpg')[:,:,[2,1,0]]\n",
    "\n",
    "plt.figure(figsize = (15,15))\n",
    "\n",
    "plt.subplot(1,2,1)\n",
    "plt.imshow(im_original_clean)\n",
    "plt.title('Original Synthetic Night Clean Image')\n",
    "\n",
    "plt.subplot(1,2,2)\n",
    "plt.imshow(im_withrawC_path_grayness)\n",
    "plt.title('Grayness Index Clean Image')"
   ]
  },
  {
   "cell_type": "code",
   "execution_count": null,
   "id": "d7c823a2",
   "metadata": {},
   "outputs": [],
   "source": [
    "title = ['Clean Synthetic (Original)','Noisy Synthetic (Original)',\n",
    "         'Raw Processed (Clean)','Raw Processed (Noisy)',\n",
    "         'SkipRaw Process Clean (GI)','SkipRaw Process Clean (Unsharp)',\n",
    "         'SkipRaw Process Noisy (GI)','SkipRaw Process Noisy (Unsharp)',\n",
    "         'WithRaw Process Clean (GI)','WithRaw Process Clean (Unsharp)',\n",
    "         'WithRaw Process Noisy (GI)','WithRaw Process Noisy (Unsharp)']\n",
    "\n",
    "list_im = [im_original_clean,im_original_noisy,\n",
    "          im_rawpros_clean,im_rawpros_noisy,\n",
    "          im_skiprawC_path_grayness,im_skiprawC_path_unsharp,\n",
    "          im_skiprawN_path_grayness,im_skiprawN_path_unsharp,\n",
    "          im_withrawC_path_grayness,im_withrawC_path_unsharp,\n",
    "          im_withrawN_path_grayness,im_withrawN_path_unsharp]\n"
   ]
  },
  {
   "cell_type": "code",
   "execution_count": null,
   "id": "8e12eaa5",
   "metadata": {},
   "outputs": [],
   "source": [
    "\n",
    "plt.figure(figsize=(15, 15))\n",
    "\n",
    "for i in range(6):\n",
    "    plt.subplot(6,2,i+1)\n",
    "    plt.imshow(list_im[i][1000:1200,2000:2200])\n",
    "    plt.title(title[i])\n",
    "    plt.axis('off')\n",
    "    \n",
    "#plt.savefig('/Users/m_feriansyahrt/Documents/S2/Studi Mandiri/RAW Processed Image untuk report-5/qualitative1.png')"
   ]
  },
  {
   "cell_type": "code",
   "execution_count": null,
   "id": "7332837f",
   "metadata": {},
   "outputs": [],
   "source": [
    "plt.figure(figsize=(15, 15))\n",
    "\n",
    "for i in range(6):\n",
    "    plt.subplot(6,2,i+1)\n",
    "    plt.imshow(list_im[i+6][1000:1200,2000:2200])\n",
    "    plt.title(title[i+6])\n",
    "    plt.axis('off')\n",
    "    \n",
    "#plt.savefig('/Users/m_feriansyahrt/Documents/S2/Studi Mandiri/RAW Processed Image untuk report-5/qualitative2.png')"
   ]
  },
  {
   "cell_type": "code",
   "execution_count": null,
   "id": "f7aa12cb",
   "metadata": {},
   "outputs": [],
   "source": [
    "plt.figure(figsize=(15, 15))\n",
    "\n",
    "plt.subplot(6,2,1)\n",
    "plt.imshow(im_original_clean[1000:1200,2000:2200])\n",
    "plt.title('Clean Synthetic (Original)')\n",
    "plt.axis('off')\n",
    "\n",
    "for i in range(12):\n",
    "    plt.subplot(3,4,i+1)\n",
    "    plt.imshow(list_im[i][1000:1200,2000:2200])\n",
    "    plt.title(title[i])\n",
    "    plt.axis('off')"
   ]
  },
  {
   "cell_type": "code",
   "execution_count": null,
   "id": "ddb7378c",
   "metadata": {},
   "outputs": [],
   "source": []
  }
 ],
 "metadata": {
  "kernelspec": {
   "display_name": "Python 3 (ipykernel)",
   "language": "python",
   "name": "python3"
  },
  "language_info": {
   "codemirror_mode": {
    "name": "ipython",
    "version": 3
   },
   "file_extension": ".py",
   "mimetype": "text/x-python",
   "name": "python",
   "nbconvert_exporter": "python",
   "pygments_lexer": "ipython3",
   "version": "3.10.9"
  }
 },
 "nbformat": 4,
 "nbformat_minor": 5
}
